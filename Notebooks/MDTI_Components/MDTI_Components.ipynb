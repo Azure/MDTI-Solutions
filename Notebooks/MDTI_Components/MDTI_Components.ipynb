{
 "cells": [
  {
   "cell_type": "markdown",
   "metadata": {},
   "source": [
    "# **Microsoft Defender Threat Intelligence**\n",
    "\n",
    "## Jupyter NoteBook using the MDTI to return the Components DataSet.  \n",
    "\n",
    "#### Author: \n",
    "Dennis Mercer  \n",
    "Sr Program Manager  \n",
    "Microsoft CxE MDTI  \n",
    "\n",
    "##### Microsoft Defender Threat Intelligence (MDTI) is a complete threat intelligence platform that enables security professionals to ingest, analyze and act upon trillions of signals collected from across the internet and processed by security experts and AI. MDTI allows users to uncover and understand the global threat landscape as it relates to their organization, including context around vulnerabilities, threat actors, and the threat infrastructure that might be used to attack them.\n",
    "\n",
    "##### Microsoft processes over 65-trillion signals every day, which is used to populate the database which MDTI pulls datasets of threat intelligence. The key to operationalizing threat intelligence is to make it not just applicable, but actionable.   This notebook seeks to make threat intelligence actionable for SOC Analyst, Threat Hunters and Cyber Threat Intelligence Researchers.\n",
    "\n",
    "##### With this Jupyter Notebook, you can call the Components Endpoint and return the Components for a single entity.   Additionally, you can use additional APIs to create additional datasets for your notebook.\n",
    "\n"
   ]
  },
  {
   "cell_type": "markdown",
   "metadata": {},
   "source": [
    "________________________________________________________________________________________________________________________________________________________\n",
    "### Import Statements for any potential calls within the cells below or any modifications that could be made to the source of the Typosquat Services"
   ]
  },
  {
   "cell_type": "code",
   "execution_count": null,
   "metadata": {},
   "outputs": [],
   "source": [
    "import asyncio\n",
    "from azure.identity.aio import ClientSecretCredential\n",
    "from kiota_authentication_azure.azure_identity_authentication_provider import AzureIdentityAuthenticationProvider\n",
    "from msgraph import GraphRequestAdapter\n",
    "from msgraph import GraphServiceClient\n",
    "from IPython.display import display\n",
    "import ipywidgets as widgets\n",
    "from azure.identity import ClientSecretCredential\n",
    "import requests\n",
    "import json\n"
   ]
  },
  {
   "cell_type": "markdown",
   "metadata": {},
   "source": [
    "### This cell will return the JSON response for a single entity (Domain or IP Address)."
   ]
  },
  {
   "cell_type": "code",
   "execution_count": null,
   "metadata": {},
   "outputs": [],
   "source": [
    "\n",
    "\n",
    "# Get the client secret from a local file\n",
    "credential = ClientSecretCredential(\n",
    "    tenant_id='Enter your TenantID',     # Tenant ID\n",
    "    client_id='Enter your App ClientID', # ClientID from app registration \n",
    "    client_secret=  client_secret        # You should not leave the client secret exposed, delete the secret once you have used it or employ Key Vault\n",
    ")\n",
    "\n",
    "# get access token\n",
    "token = credential.get_token('https://graph.microsoft.com/.default')\n",
    "access_token = token.token\n",
    "\n",
    "# Define the hostname (i.e., the domain you're interested in)\n",
    "hostname = \"example.com\"  # Replace with your domain\n",
    "\n",
    "# Graph API base URL\n",
    "graph_api_base_url = f\"https://graph.microsoft.com/beta/security/threatIntelligence/hosts/{hostname}/components\"\n",
    "\n",
    "# Create headers with Authorization token\n",
    "headers = {\n",
    "    \"Authorization\": f\"Bearer {access_token}\",\n",
    "    \"Content-Type\": \"application/json\"\n",
    "}\n",
    "\n",
    "# Send GET request to Graph API endpoint\n",
    "response = requests.get(graph_api_base_url, headers=headers)\n",
    "\n",
    "# Check for HTTP errors\n",
    "try:\n",
    "    response.raise_for_status()\n",
    "except requests.exceptions.HTTPError as http_err:\n",
    "    print(f\"HTTP error occurred: {http_err}\")\n",
    "except Exception as err:\n",
    "    print(f\"Other error occurred: {err}\")\n",
    "else:\n",
    "    # Print response content as JSON\n",
    "    print(json.dumps(json.loads(response.content), indent=4))\n"
   ]
  }
 ],
 "metadata": {
  "kernelspec": {
   "display_name": "Python 3",
   "language": "python",
   "name": "python3"
  },
  "language_info": {
   "codemirror_mode": {
    "name": "ipython",
    "version": 3
   },
   "file_extension": ".py",
   "mimetype": "text/x-python",
   "name": "python",
   "nbconvert_exporter": "python",
   "pygments_lexer": "ipython3",
   "version": "3.10.11"
  },
  "orig_nbformat": 4
 },
 "nbformat": 4,
 "nbformat_minor": 2
}
