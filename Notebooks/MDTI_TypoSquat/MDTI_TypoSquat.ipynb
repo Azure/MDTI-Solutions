{
 "cells": [
  {
   "cell_type": "markdown",
   "metadata": {},
   "source": [
    "# **Microsoft Defender Threat Intelligence**\n",
    "\n",
    "## Jupyter NoteBook using the MDTI and OpenSquat to check for new domains that are potential typosquating and then to run a reputation check on those domains.\n",
    "\n",
    "#### Author: \n",
    "Dennis Mercer  \n",
    "Sr Program Manager  \n",
    "Microsoft CxE MDTI  \n",
    "\n",
    "##### Microsoft Defender Threat Intelligence (MDTI) is a complete threat intelligence platform that enables security professionals to ingest, analyze and act upon trillions of signals collected from across the internet and processed by security experts and AI. MDTI allows users to uncover and understand the global threat landscape as it relates to their organization, including context around vulnerabilities, threat actors, and the threat infrastructure that might be used to attack them.\n",
    "\n",
    "##### Microsoft processes over 65-trillion signals every day, which is used to populate the database which MDTI pulls datasets of threat intelligence. The key to operationalizing threat intelligence is to make it not just applicable, but actionable.   This notebook seeks to make threat intelligence actionable for SOC Analyst, Threat Hunters and Cyber Threat Intelligence Researchers.\n",
    "\n",
    "##### With this Jupyter Notebook, you can call the Reputation Endpoint and return the reputation classification and score.  Any domains that are returned by OpenSquat are then checked against the reputation endpoint.  You could use other typosquating service, you will have to modify the code to enable that service provider.  Additionally, you can use additional APIs to create additional datasets for your notebook.\n",
    "\n"
   ]
  },
  {
   "cell_type": "markdown",
   "metadata": {},
   "source": [
    "________________________________________________________________________________________________________________________________________________________\n",
    "### Import Statements for any potential calls within the cells below or any modifications that could be made to the source of the Typosquat Services"
   ]
  },
  {
   "cell_type": "code",
   "execution_count": null,
   "metadata": {},
   "outputs": [],
   "source": [
    "import asyncio\n",
    "from azure.identity.aio import ClientSecretCredential\n",
    "from kiota_authentication_azure.azure_identity_authentication_provider import AzureIdentityAuthenticationProvider\n",
    "from msgraph import GraphRequestAdapter\n",
    "from msgraph import GraphServiceClient\n",
    "from IPython.display import display\n",
    "import ipywidgets as widgets\n",
    "from azure.identity import ClientSecretCredential\n",
    "import requests\n",
    "import pandas as pd\n",
    "import datetime\n",
    "from datetime import timedelta\n",
    "import matplotlib.pyplot as plt\n",
    "import seaborn as sns"
   ]
  },
  {
   "cell_type": "markdown",
   "metadata": {},
   "source": [
    "### You will need to add in your own OpenSquat API Key as well as your Azure Tenant ID, Client ID, and Client Secret.  For futher information on the method for protecting your Client Secret, please review the readme file for this Notebook."
   ]
  },
  {
   "cell_type": "code",
   "execution_count": null,
   "metadata": {},
   "outputs": [],
   "source": [
    "# The modified OpenSquat API script\n",
    "def fetch_domains(keyword):\n",
    "    url = f\"https://opensquat1.p.rapidapi.com/{keyword}\"\n",
    "\n",
    "    headers = {\n",
    "        \"X-RapidAPI-Key\": \"Enter your OpenSquart API Key\",\n",
    "        \"X-RapidAPI-Host\": \"opensquat1.p.rapidapi.com\"\n",
    "    }\n",
    "\n",
    "    try:\n",
    "        params = {\n",
    "            \"q\": keyword\n",
    "        }\n",
    "        response = requests.get(url, headers=headers, params=params)\n",
    "        response.raise_for_status()  # Raise an exception for 4xx and 5xx status codes\n",
    "        data = response.json()\n",
    "\n",
    "        # Extracting the domains from the response\n",
    "        domains = data.get(\"domains\")\n",
    "        return domains\n",
    "    except requests.exceptions.RequestException as error:\n",
    "        print(error)\n",
    "\n",
    "# Get the client secret from a local file\n",
    "credential = ClientSecretCredential(\n",
    "    tenant_id='Enter your Azure Tenant ID',  \n",
    "    client_id='Enter your App Client ID',\n",
    "    client_secret = 'Enter your Client Secret'  # You should not leave the client secret exposed, delete the secret one you have used it or employ Key Vault\n",
    ")\n",
    "\n",
    "scopes = ['https://graph.microsoft.com/.default']  # Scopes or permissions required for API access\n",
    "\n",
    "# The get_reputation function\n",
    "async def get_reputation(hostname: str):\n",
    "    auth_provider = AzureIdentityAuthenticationProvider(credential, scopes=scopes)\n",
    "    request_adapter = GraphRequestAdapter(auth_provider)\n",
    "\n",
    "    client = GraphServiceClient(request_adapter)\n",
    "\n",
    "    reputation = await client.security.threat_intelligence.hosts.by_host_id(hostname).reputation.get()\n",
    "    if reputation:\n",
    "        classification = str(reputation.classification).split('.')[-1]  # Get only the classification part\n",
    "        print(f\"The domain {hostname} is {classification} with a score of {reputation.score}\")\n",
    "\n",
    "try:\n",
    "    loop = asyncio.get_running_loop()\n",
    "except RuntimeError:  # 'RuntimeError: There is no current event loop...'\n",
    "    loop = None\n",
    "\n",
    "# Use the fetch_domains function to get the list of domains\n",
    "keyword = input(\"Enter the keyword to search: \")\n",
    "domains = fetch_domains(keyword)\n",
    "\n",
    "print(\"Domains to check:\", domains)  # Print the array of domains\n",
    "\n",
    "# Use the get_reputation function to get the reputation of the domains\n",
    "for domain in domains:\n",
    "    if loop and loop.is_running():\n",
    "        tsk = loop.create_task(get_reputation(domain))\n",
    "    else:\n",
    "        asyncio.run(get_reputation(domain))\n"
   ]
  }
 ],
 "metadata": {
  "language_info": {
   "name": "python"
  },
  "orig_nbformat": 4
 },
 "nbformat": 4,
 "nbformat_minor": 2
}
