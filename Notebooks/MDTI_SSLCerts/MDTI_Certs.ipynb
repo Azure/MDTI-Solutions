{
 "cells": [
  {
   "cell_type": "markdown",
   "metadata": {},
   "source": [
    "# Microsoft Defender Threat Intelligence\n",
    "## Jupyter NoteBook using the MDTI to return the SSL Certificates DataSet.\n",
    "## Author:\n",
    "Dennis Mercer\\\n",
    "Sr Program Manager\\\n",
    "Microsoft CxE MDTI\n",
    "\n",
    "#### Microsoft Defender Threat Intelligence (MDTI) is a complete threat intelligence platform that enables security professionals to ingest, analyze and act upon trillions of signals collected from across the internet and processed by security experts and AI. MDTI allows users to uncover and understand the global threat landscape as it relates to their organization, including context around vulnerabilities, threat actors, and the threat infrastructure that might be used to attack them.\n",
    "#### Microsoft processes over 65-trillion signals every day, which is used to populate the database which MDTI pulls datasets of threat intelligence. The key to operationalizing threat intelligence is to make it not just applicable, but actionable. This notebook seeks to make threat intelligence actionable for SOC Analyst, Threat Hunters and Cyber Threat Intelligence Researchers.\n",
    "#### With this Jupyter Notebook, you can call the SSL Certificate Endpoint and return the SSL Certification Information for a single entity. Additionally, you can use modify this notebook with additional endpoints to add to this notebook.\n",
    "___________________________________________________________________________________________________________________________________________"
   ]
  },
  {
   "cell_type": "code",
   "execution_count": null,
   "metadata": {},
   "outputs": [],
   "source": [
    "import os\n",
    "import requests\n",
    "import json\n",
    "from azure.identity import ClientSecretCredential\n",
    "\n",
    "# Create the ClientSecretCredential\n",
    "credential = ClientSecretCredential(\n",
    "    tenant_id= '4b2462a4-bbee-495a-a0e1-f23ae524cc9c',\n",
    "    client_id='30232d95-233d-403b-a7d6-4aef57439f72',\n",
    "    client_secret=client_secret\n",
    ")\n",
    "\n",
    "# Get the access token\n",
    "access_token = credential.get_token('https://graph.microsoft.com/.default').token\n",
    "# Prepare the request headers\n",
    "headers = {\n",
    "    'Authorization': 'Bearer ' + access_token,\n",
    "    'Content-Type': 'application/json'\n",
    "}\n",
    "\n",
    "# Getting user input and making the Graph API call\n",
    "hosts = input(\"Please enter the IP address or Domain Name (e.g., 'microsoft.com'): \")\n",
    "ENDPOINT = f\"https://graph.microsoft.com/v1.0/security/threatIntelligence/hosts('{hosts}')/sslcertificates\"\n",
    "\n",
    "response = requests.get(ENDPOINT, headers=headers)\n",
    "\n",
    "if response.status_code == 200:\n",
    "    data = response.json()\n",
    "    print(json.dumps(data, indent=4))\n",
    "else:\n",
    "    print(f\"Error {response.status_code}: {response.text}\")"
   ]
  }
 ],
 "metadata": {
  "language_info": {
   "name": "python"
  },
  "orig_nbformat": 4
 },
 "nbformat": 4,
 "nbformat_minor": 2
}
