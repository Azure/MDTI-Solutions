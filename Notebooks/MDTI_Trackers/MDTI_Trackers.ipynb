{
 "cells": [
  {
   "cell_type": "markdown",
   "metadata": {},
   "source": [
    "# Microsoft Defender Threat Intelligence\n",
    "## Jupyter NoteBook using the MDTI to return the Components DataSet.\n",
    "## Author:\n",
    "Dennis Mercer\\\n",
    "Sr Program Manager\\\n",
    "Microsoft CxE MDTI\\\n",
    "\n",
    "#### Microsoft Defender Threat Intelligence (MDTI) is a complete threat intelligence platform that enables security professionals to ingest, analyze and act upon trillions of signals collected from across the internet and processed by security experts and AI. MDTI allows users to uncover and understand the global threat landscape as it relates to their organization, including context around vulnerabilities, threat actors, and the threat infrastructure that might be used to attack them.\n",
    "#### Microsoft processes over 65-trillion signals every day, which is used to populate the database which MDTI pulls datasets of threat intelligence. The key to operationalizing threat intelligence is to make it not just applicable, but actionable. This notebook seeks to make threat intelligence actionable for SOC Analyst, Threat Hunters and Cyber Threat Intelligence Researchers.\n",
    "#### With this Jupyter Notebook, you can call the Cookies Endpoint and return the Cookies for a single entity. Additionally, you can use additional APIs to create additional datasets for your notebook.\n",
    "___________________________________________________________________________________________________________________________________________"
   ]
  },
  {
   "cell_type": "markdown",
   "metadata": {},
   "source": [
    "##### List of libraries and packages to import"
   ]
  },
  {
   "cell_type": "code",
   "execution_count": null,
   "metadata": {},
   "outputs": [],
   "source": [
    "import os\n",
    "import requests\n",
    "import json\n",
    "from azure.identity import ClientSecretCredential"
   ]
  },
  {
   "cell_type": "code",
   "execution_count": null,
   "metadata": {},
   "outputs": [],
   "source": [
    "# Create the ClientSecretCredential\n",
    "credential = ClientSecretCredential(\n",
    "    tenant_id= 'Enter your TenantId',          # Enter your TenantID\n",
    "    client_id='Enter your ClientID',           # ClientId from the App Registration\n",
    "    client_secret= 'Enter your client_secret'  # You can use different ways to set this variable, if should never exposed this to the outside\n",
    ")\n",
    "\n",
    "# Get the access token\n",
    "access_token = credential.get_token('https://graph.microsoft.com/.default').token\n",
    "\n",
    "# Prepare the request headers\n",
    "headers = {\n",
    "    'Authorization': 'Bearer ' + access_token,\n",
    "    'Content-Type': 'application/json'\n",
    "}\n",
    "\n",
    "# Getting user input and making the Graph API call\n",
    "hosts = input(\"Please enter the IP address or Domain Name (e.g., 'microsoft.com'): \")\n",
    "ENDPOINT = f\"https://graph.microsoft.com/v1.0/security/threatIntelligence/hosts('{hosts}')/trackers\"\n",
    "\n",
    "response = requests.get(ENDPOINT, headers=headers)\n",
    "\n",
    "if response.status_code == 200:\n",
    "    data = response.json()\n",
    "    print(json.dumps(data, indent=4))\n",
    "else:\n",
    "    print(f\"Error {response.status_code}: {response.text}\")"
   ]
  }
 ],
 "metadata": {
  "kernelspec": {
   "display_name": "Python 3",
   "language": "python",
   "name": "python3"
  },
  "language_info": {
   "name": "python",
   "version": "3.10.11"
  },
  "orig_nbformat": 4
 },
 "nbformat": 4,
 "nbformat_minor": 2
}
