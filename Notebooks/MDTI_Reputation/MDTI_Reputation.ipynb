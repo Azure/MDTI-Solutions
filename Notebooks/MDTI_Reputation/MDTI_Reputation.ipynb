{
 "cells": [
  {
   "cell_type": "markdown",
   "metadata": {},
   "source": [
    "# **Microsoft Defender Threat Intelligence**\n",
    "\n",
    "## Jupyter NoteBook using the MDTI to return the Reputation DataSet.  There is an example of a single domain/ip address entity and then an example of a bulk Reputation return for classification as well as score.\n",
    "\n",
    "#### Author: \n",
    "Dennis Mercer  \n",
    "Sr Program Manager  \n",
    "Microsoft CxE MDTI  \n",
    "\n",
    "##### Microsoft Defender Threat Intelligence (MDTI) is a complete threat intelligence platform that enables security professionals to ingest, analyze and act upon trillions of signals collected from across the internet and processed by security experts and AI. MDTI allows users to uncover and understand the global threat landscape as it relates to their organization, including context around vulnerabilities, threat actors, and the threat infrastructure that might be used to attack them.\n",
    "\n",
    "##### Microsoft processes over 65-trillion signals every day, which is used to populate the database which MDTI pulls datasets of threat intelligence. The key to operationalizing threat intelligence is to make it not just applicable, but actionable.   This notebook seeks to make threat intelligence actionable for SOC Analyst, Threat Hunters and Cyber Threat Intelligence Researchers.\n",
    "\n",
    "##### With this Jupyter Notebook, you can call the Reputation Endpoint and return the reputation classification and score.   Additionally, you can use additional APIs to create additional datasets for your notebook.\n",
    "\n"
   ]
  },
  {
   "cell_type": "markdown",
   "metadata": {},
   "source": [
    "_________________________________________________________________________________________________________________________________________________________\n",
    "### You will need to install aiohttp and msal for the bulk Reputation request."
   ]
  },
  {
   "cell_type": "code",
   "execution_count": null,
   "metadata": {},
   "outputs": [],
   "source": [
    "pip install aiohttp msal"
   ]
  },
  {
   "cell_type": "markdown",
   "metadata": {},
   "source": [
    "________________________________________________________________________________________________________________________________________________________\n",
    "### Import Statements for any potential calls within the cells below or any modifications that could be made to the source of the Typosquat Services"
   ]
  },
  {
   "cell_type": "code",
   "execution_count": null,
   "metadata": {},
   "outputs": [],
   "source": [
    "import asyncio\n",
    "from azure.identity.aio import ClientSecretCredential\n",
    "from kiota_authentication_azure.azure_identity_authentication_provider import AzureIdentityAuthenticationProvider\n",
    "from msgraph import GraphRequestAdapter\n",
    "from msgraph import GraphServiceClient\n",
    "from IPython.display import display\n",
    "import ipywidgets as widgets\n",
    "from azure.identity import ClientSecretCredential\n",
    "import requests\n",
    "import pandas as pd\n",
    "import datetime\n",
    "from datetime import timedelta\n",
    "import matplotlib.pyplot as plt\n",
    "import seaborn as sns\n",
    "import json"
   ]
  },
  {
   "cell_type": "markdown",
   "metadata": {},
   "source": [
    "### This cell will return the JSON response for a single entity (Domain or IP Address)."
   ]
  },
  {
   "cell_type": "code",
   "execution_count": null,
   "metadata": {},
   "outputs": [],
   "source": [
    "# Get the client secret from a local file\n",
    "credential = ClientSecretCredential(\n",
    "    tenant_id='Enter your TenantID',     # Tenant ID\n",
    "    client_id='Enter your App ClientID', # ClientID from app registration \n",
    "    client_secret=  client_secret        # You should not leave the client secret exposed, delete the secret once you have used it or employ Key Vault\n",
    ")\n",
    "\n",
    "scopes = ['https://graph.microsoft.com/.default']  # Scopes or permissions required for API access\n",
    "\n",
    "auth_provider = AzureIdentityAuthenticationProvider(credential, scopes=scopes)\n",
    "request_adapter = GraphRequestAdapter(auth_provider)\n",
    "client = GraphServiceClient(request_adapter)\n",
    "\n",
    "# Updated get_reputation function\n",
    "async def get_reputation(hostname: str):\n",
    "    reputation = await client.security.threat_intelligence.hosts.by_host_id(hostname).reputation.get()\n",
    "    if reputation:\n",
    "        classification = str(reputation.classification).split('.')[-1]  # Get only the classification part\n",
    "        print(f\"The domain you entered is {classification} with a score of {reputation.score}\")\n",
    "    else:\n",
    "        print(f\"No reputation information found for {hostname}.\")\n",
    "\n",
    "try:\n",
    "    loop = asyncio.get_running_loop()\n",
    "except RuntimeError:  # 'RuntimeError: There is no current event loop...'\n",
    "    loop = None\n",
    "\n",
    "entity_to_check = input(\"Enter the domain for which you want to retrieve the reputation score: \")  # Replace with the entity you want to check\n",
    "\n",
    "if loop and loop.is_running():\n",
    "    loop.create_task(get_reputation(entity_to_check))\n",
    "else:\n",
    "    asyncio.run(get_reputation(entity_to_check))\n"
   ]
  },
  {
   "cell_type": "markdown",
   "metadata": {},
   "source": [
    "### This cell will return a bulk Reputation query and return the Reputation Classification and Score for each entity.  The query uses an Asynchronous method to call the API Endpoint.  You will need to list the entities that you wish to query in a text file, each entity on a separate line and then add the path to that file in the code."
   ]
  },
  {
   "cell_type": "code",
   "execution_count": 47,
   "metadata": {},
   "outputs": [
    {
     "name": "stdout",
     "output_type": "stream",
     "text": [
      "Checking domain: 062fe.com\n",
      "Checking domain: hostelhotels.net\n",
      "Checking domain: microsoft.com\n",
      "Checking domain: riskiq.net\n"
     ]
    },
    {
     "name": "stdout",
     "output_type": "stream",
     "text": [
      "The domain 062fe.com is Suspicious with a score of 74\n",
      "The domain microsoft.com is Unknown with a score of None\n",
      "The domain riskiq.net is Unknown with a score of None\n",
      "The domain hostelhotels.net is Malicious with a score of 100\n"
     ]
    }
   ],
   "source": [
    "# Use the client secret to create the credential\n",
    "credential = ClientSecretCredential(\n",
    "    tenant_id='Enter your TenantID',     # Tenant ID\n",
    "    client_id='Enter your App ClientID', # ClientID from app registration \n",
    "    client_secret=  client_secret        # You should not leave the client secret exposed, delete the secret once you have used it or employ Key Vault\n",
    ")\n",
    "\n",
    "scopes = ['https://graph.microsoft.com/.default']  # Scopes or permissions required for API access\n",
    "\n",
    "auth_provider = AzureIdentityAuthenticationProvider(credential, scopes=scopes)\n",
    "request_adapter = GraphRequestAdapter(auth_provider)\n",
    "\n",
    "client = GraphServiceClient(request_adapter)\n",
    "\n",
    "# Updated get_reputation function\n",
    "async def get_reputation(hostname: str):\n",
    "    try:\n",
    "        reputation = await client.security.threat_intelligence.hosts.by_host_id(hostname).reputation.get()\n",
    "        if reputation:\n",
    "            classification = str(reputation.classification).split('.')[-1]  # Get only the classification part\n",
    "            print(f\"The domain {hostname} is {classification} with a score of {reputation.score}\")\n",
    "    except Exception as e:\n",
    "        print(f\"Error occurred while checking reputation for domain {hostname}: {e}\")\n",
    "\n",
    "try:\n",
    "    loop = asyncio.get_running_loop()\n",
    "except RuntimeError:  # 'RuntimeError: There is no current event loop...'\n",
    "    loop = None\n",
    "\n",
    "# Read list of entities from the text file with domains separated by a carriage return\n",
    "file_path = r'C:\\Users\\dennismercer\\Documents\\Python\\MDTI\\token.txt'\n",
    "\n",
    "try:\n",
    "    with open(file_path, 'r', encoding='utf-16') as file:\n",
    "        entities_to_check = [line.strip() for line in file.readlines()]\n",
    "except UnicodeDecodeError:\n",
    "    with open(file_path, 'r', encoding='utf-8-sig') as file:\n",
    "        entities_to_check = [line.strip() for line in file.readlines()]\n",
    "\n",
    "for entity in entities_to_check:\n",
    "    if entity:  # Skip empty lines\n",
    "        print(f\"Checking domain: {entity}\")\n",
    "        if loop and loop.is_running():\n",
    "            tsk = loop.create_task(get_reputation(entity))\n",
    "        else:\n",
    "            result = asyncio.run(get_reputation(entity))\n"
   ]
  }
 ],
 "metadata": {
  "kernelspec": {
   "display_name": "Python 3",
   "language": "python",
   "name": "python3"
  },
  "language_info": {
   "codemirror_mode": {
    "name": "ipython",
    "version": 3
   },
   "file_extension": ".py",
   "mimetype": "text/x-python",
   "name": "python",
   "nbconvert_exporter": "python",
   "pygments_lexer": "ipython3",
   "version": "3.10.11"
  },
  "orig_nbformat": 4
 },
 "nbformat": 4,
 "nbformat_minor": 2
}
