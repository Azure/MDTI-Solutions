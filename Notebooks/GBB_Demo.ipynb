{
 "cells": [
  {
   "attachments": {},
   "cell_type": "markdown",
   "metadata": {},
   "source": [
    "# **Microsoft Defender Threat Intelligence**\n",
    "\n",
    "## Jupyter NoteBook Demo for GBBs to present MDTI Graph API\n",
    "\n",
    "##### Microsoft Defender Threat Intelligence (MDTI) is a complete threat intelligence platform that enables security professionals to ingest, analyze and act upon trillions of signals collected from across the internet and processed by security experts and AI. MDTI allows users to uncover and understand the global threat landscape as it relates to their organization, including context around vulnerabilities, threat actors, and the threat infrastructure that might be used to attack them.\n",
    "\n",
    "##### Microsoft processes over 65-trillion signals every day. The key to operationalizing threat intelligence is to make it not just applicable, but actionable. Combined with AI and the expertise of 8,500 dedicated security professionals, this wealth of external telemetry and signal data is wrangled into immediately actionable insights.\n",
    "\n",
    "#  What Data can you obtain using the MDTI Graph API:\n",
    "- Reputation Scoring. Dynamically calculated severity scoring for IP addresses, domains, and hosts based on real-world threats and observations.\n",
    "- Components\n",
    "- Trackers\n",
    "- Threat Intel Article\n",
    "- Intel Profiles\n",
    "- Vulnerability"
   ]
  },
  {
   "attachments": {},
   "cell_type": "markdown",
   "metadata": {},
   "source": [
    "_____________________________________________________________\n",
    "# Get a Token from Azure Active Directory\n"
   ]
  },
  {
   "attachments": {},
   "cell_type": "markdown",
   "metadata": {},
   "source": [
    "#### Get the Client Secret and set to an environment variable\n",
    "##### This example is primarly used for VSCode and the client_Secret is in a text file in the folder, not exposed to anyone viewing.\n",
    "##### If you are going to use this Notebook in Azure Machine Learning, you will need to set up a secure string or a key vault."
   ]
  },
  {
   "cell_type": "code",
   "execution_count": null,
   "metadata": {},
   "outputs": [],
   "source": [
    "import os\n",
    "\n",
    "# Read the client secret from a text file\n",
    "with open(\"client_secret.txt\", \"r\") as f:\n",
    "    client_secret = f.read().strip()\n",
    "\n",
    "# Set the client secret as an environment variable\n",
    "os.environ[\"CLIENT_SECRET\"] = client_secret"
   ]
  },
  {
   "attachments": {},
   "cell_type": "markdown",
   "metadata": {},
   "source": [
    "#### Get the Token with this cell"
   ]
  },
  {
   "cell_type": "code",
   "execution_count": null,
   "metadata": {},
   "outputs": [],
   "source": [
    "from msal import ConfidentialClientApplication\n",
    "\n",
    "# Azure AD application credentials\n",
    "client_id = \"\"\n",
    "# If you are not using a secure string or key vault, you will need to un-comment the line below and add the secret there.\n",
    "# client_secret = \"\"\n",
    "tenant_id = \"\"\n",
    "\n",
    "\n",
    "# Create a ConfidentialClientApplication object\n",
    "app = ConfidentialClientApplication(\n",
    "    client_id=client_id,\n",
    "    client_credential=client_secret,\n",
    "    authority=f\"https://login.microsoftonline.com/{tenant_id}\",\n",
    ")\n",
    "\n",
    "# Get a token from Azure AD\n",
    "result = None\n",
    "scopes = [\"https://graph.microsoft.com/.default\"]\n",
    "result = app.acquire_token_silent(scopes=scopes, account=None)\n",
    "\n",
    "if not result:\n",
    "    result = app.acquire_token_for_client(scopes=scopes)\n",
    "\n",
    "# Get the access token\n",
    "access_token = result[\"access_token\"]\n",
    "\n",
    "# Print the access token\n",
    "print(\"Access Token:\", access_token)\n"
   ]
  },
  {
   "attachments": {},
   "cell_type": "markdown",
   "metadata": {},
   "source": [
    "_____________________________________________________________\n",
    "# Start Calling Graph APIs with different parameters"
   ]
  },
  {
   "cell_type": "code",
   "execution_count": null,
   "metadata": {},
   "outputs": [],
   "source": [
    "# Prompt user to enter Domain name or IP Address to investigate\n",
    "entity_ID = input(\"Enter the Domain or IP Address you want to investigate: \")\n",
    "\n",
    "print(\"The Domain Name or IP Address to be investigated is: \" + entity_ID)"
   ]
  },
  {
   "attachments": {},
   "cell_type": "markdown",
   "metadata": {},
   "source": [
    "### Calling Graph API for Host Information "
   ]
  },
  {
   "cell_type": "code",
   "execution_count": null,
   "metadata": {},
   "outputs": [],
   "source": [
    "import requests\n",
    "import json\n",
    "\n",
    "# Graph API base URL\n",
    "graph_api_base_url = f\"https://graph.microsoft.com/beta/security/threatIntelligence/hosts/{entity_ID}\"\n",
    "\n",
    "# Create headers with Authorization token\n",
    "headers = {\n",
    "    \"Authorization\": f\"Bearer {access_token}\",\n",
    "    \"Content-Type\": \"application/json\"\n",
    "}\n",
    "\n",
    "# Send GET request to Graph API endpoint\n",
    "response = requests.get(graph_api_base_url, headers=headers)\n",
    "\n",
    "# Check for HTTP errors\n",
    "try:\n",
    "    response.raise_for_status()\n",
    "except requests.exceptions.HTTPError as http_err:\n",
    "    print(f\"HTTP error occurred: {http_err}\")\n",
    "except Exception as err:\n",
    "    print(f\"Other error occurred: {err}\")\n",
    "else:\n",
    "    # Print response content as JSON\n",
    "    print(json.dumps(json.loads(response.content), indent=4))\n"
   ]
  },
  {
   "attachments": {},
   "cell_type": "markdown",
   "metadata": {},
   "source": [
    "### Calling Graph API Reputation "
   ]
  },
  {
   "cell_type": "code",
   "execution_count": null,
   "metadata": {},
   "outputs": [],
   "source": [
    "import requests\n",
    "import json\n",
    "\n",
    "# Graph API base URL\n",
    "graph_api_base_url = f\"https://graph.microsoft.com/beta/security/threatIntelligence/hosts/{entity_ID}/reputation\"\n",
    "\n",
    "# Create headers with Authorization token\n",
    "headers = {\n",
    "    \"Authorization\": f\"Bearer {access_token}\",\n",
    "    \"Content-Type\": \"application/json\"\n",
    "}\n",
    "\n",
    "# Send GET request to Graph API endpoint\n",
    "response = requests.get(graph_api_base_url, headers=headers)\n",
    "\n",
    "# Check for HTTP errors\n",
    "try:\n",
    "    response.raise_for_status()\n",
    "except requests.exceptions.HTTPError as http_err:\n",
    "    print(f\"HTTP error occurred: {http_err}\")\n",
    "except Exception as err:\n",
    "    print(f\"Other error occurred: {err}\")\n",
    "else:\n",
    "    # Print response content as JSON\n",
    "    print(json.dumps(json.loads(response.content), indent=4))\n"
   ]
  },
  {
   "attachments": {},
   "cell_type": "markdown",
   "metadata": {},
   "source": [
    "### Calling Graph API for Reputation - Return only Reputation Class, Score and Rules triggered"
   ]
  },
  {
   "cell_type": "code",
   "execution_count": null,
   "metadata": {},
   "outputs": [],
   "source": [
    "import requests\n",
    "import json\n",
    "\n",
    "# Graph API base URL\n",
    "graph_api_base_url = \"https://graph.microsoft.com/beta/security/threatIntelligence/hosts/{entity_ID}/reputation\"\n",
    "\n",
    "# Create headers with Authorization token\n",
    "headers = {\n",
    "    \"Authorization\": f\"Bearer {access_token}\",\n",
    "    \"Content-Type\": \"application/json\"\n",
    "}\n",
    "\n",
    "# Send GET request to Graph API endpoint\n",
    "response = requests.get(graph_api_base_url, headers=headers)\n",
    "\n",
    "# Check for HTTP errors\n",
    "try:\n",
    "    response.raise_for_status()\n",
    "except requests.exceptions.HTTPError as http_err:\n",
    "    print(f\"HTTP error occurred: {http_err}\")\n",
    "except Exception as err:\n",
    "    print(f\"Other error occurred: {err}\")\n",
    "else:\n",
    "    # Parse response content as JSON\n",
    "    json_response = json.loads(response.content)\n",
    "    \n",
    "    # Check if the response contains the word \"suspicious\"\n",
    "    is_suspicious = any(\"suspicious\" in rule.get(\"classification\", \"\") for rule in json_response.get(\"rules\", []))\n",
    "    \n",
    "    # Print classification, score, and rules\n",
    "    print(f\"Classification: {json_response['classification']}\")\n",
    "    print(f\"Score: {json_response['score']}\")\n",
    "    print(\"Rules:\")\n",
    "    for rule in json_response.get(\"rules\", []):\n",
    "        if is_suspicious:\n",
    "            print(f\"\\x1b[41m\\x1b[37mSUSPICIOUS SITE\\x1b[0m: {rule.get('name', '')}\")\n",
    "        else:\n",
    "            print(f\"{rule.get('name', '')}\")\n"
   ]
  },
  {
   "attachments": {},
   "cell_type": "markdown",
   "metadata": {},
   "source": [
    "### Calling Graph API Components "
   ]
  },
  {
   "cell_type": "code",
   "execution_count": null,
   "metadata": {},
   "outputs": [],
   "source": [
    "import requests\n",
    "import json\n",
    "\n",
    "# Graph API base URL\n",
    "graph_api_base_url = f\"https://graph.microsoft.com/beta/security/threatIntelligence/hosts/{entity_ID}/components\"\n",
    "\n",
    "# Create headers with Authorization token\n",
    "headers = {\n",
    "    \"Authorization\": f\"Bearer {access_token}\",\n",
    "    \"Content-Type\": \"application/json\"\n",
    "}\n",
    "\n",
    "# Send GET request to Graph API endpoint\n",
    "response = requests.get(graph_api_base_url, headers=headers)\n",
    "\n",
    "# Check for HTTP errors\n",
    "try:\n",
    "    response.raise_for_status()\n",
    "except requests.exceptions.HTTPError as http_err:\n",
    "    print(f\"HTTP error occurred: {http_err}\")\n",
    "except Exception as err:\n",
    "    print(f\"Other error occurred: {err}\")\n",
    "else:\n",
    "    # Print response content as JSON\n",
    "    print(json.dumps(json.loads(response.content), indent=4))\n"
   ]
  },
  {
   "attachments": {},
   "cell_type": "markdown",
   "metadata": {},
   "source": [
    "### Calling Graph API Cookies"
   ]
  },
  {
   "cell_type": "code",
   "execution_count": null,
   "metadata": {},
   "outputs": [],
   "source": [
    "import requests\n",
    "import json\n",
    "\n",
    "# Graph API base URL\n",
    "graph_api_base_url = f\"https://graph.microsoft.com/beta/security/threatIntelligence/hosts/{entity_ID}/cookies\"\n",
    "\n",
    "# Create headers with Authorization token\n",
    "headers = {\n",
    "    \"Authorization\": f\"Bearer {access_token}\",\n",
    "    \"Content-Type\": \"application/json\"\n",
    "}\n",
    "\n",
    "# Send GET request to Graph API endpoint\n",
    "response = requests.get(graph_api_base_url, headers=headers)\n",
    "\n",
    "# Check for HTTP errors\n",
    "try:\n",
    "    response.raise_for_status()\n",
    "except requests.exceptions.HTTPError as http_err:\n",
    "    print(f\"HTTP error occurred: {http_err}\")\n",
    "except Exception as err:\n",
    "    print(f\"Other error occurred: {err}\")\n",
    "else:\n",
    "    # Print response content as JSON\n",
    "    print(json.dumps(json.loads(response.content), indent=4))\n"
   ]
  },
  {
   "attachments": {},
   "cell_type": "markdown",
   "metadata": {},
   "source": [
    "### Calling Graph API Trackers"
   ]
  },
  {
   "cell_type": "code",
   "execution_count": null,
   "metadata": {},
   "outputs": [],
   "source": [
    "import requests\n",
    "import json\n",
    "\n",
    "# Graph API base URL\n",
    "graph_api_base_url = \"https://graph.microsoft.com/beta/security/threatIntelligence/hosts/{entity_ID}/trackers?count=true\"\n",
    "\n",
    "# Create headers with Authorization token\n",
    "headers = {\n",
    "    \"Authorization\": f\"Bearer {access_token}\",\n",
    "    \"Content-Type\": \"application/json\"\n",
    "}\n",
    "\n",
    "# Send GET request to Graph API endpoint\n",
    "response = requests.get(graph_api_base_url, headers=headers)\n",
    "\n",
    "# Check for HTTP errors\n",
    "try:\n",
    "    response.raise_for_status()\n",
    "except requests.exceptions.HTTPError as http_err:\n",
    "    print(f\"HTTP error occurred: {http_err}\")\n",
    "except Exception as err:\n",
    "    print(f\"Other error occurred: {err}\")\n",
    "else:\n",
    "    # Print response content as JSON\n",
    "    print(json.dumps(json.loads(response.content), indent=4))\n"
   ]
  },
  {
   "attachments": {},
   "cell_type": "markdown",
   "metadata": {},
   "source": [
    "_____________________________________________________________\n",
    "### Calling Graph API to get Article"
   ]
  },
  {
   "attachments": {},
   "cell_type": "markdown",
   "metadata": {},
   "source": [
    "#### Enter the Article ID for the article you wish to query for"
   ]
  },
  {
   "cell_type": "code",
   "execution_count": null,
   "metadata": {},
   "outputs": [],
   "source": [
    "# Prompt user to enter article ID\n",
    "articleId = input(\"Enter the article ID: \")\n",
    "\n",
    "print(articleId)"
   ]
  },
  {
   "attachments": {},
   "cell_type": "markdown",
   "metadata": {},
   "source": [
    "#### Graph API Call for the Article Requested"
   ]
  },
  {
   "cell_type": "code",
   "execution_count": null,
   "metadata": {},
   "outputs": [],
   "source": [
    "import requests\n",
    "import json\n",
    "\n",
    "# Graph API base URL\n",
    "graph_api_base_url = \"https://graph.microsoft.com/beta/security/threatIntelligence/articles/{articleId}\"\n",
    "\n",
    "# Create headers with Authorization token\n",
    "headers = {\n",
    "    \"Authorization\": f\"Bearer {access_token}\",\n",
    "    \"Content-Type\": \"application/json\"\n",
    "}\n",
    "\n",
    "# Send GET request to Graph API endpoint\n",
    "response = requests.get(graph_api_base_url, headers=headers)\n",
    "\n",
    "# Check for HTTP errors\n",
    "try:\n",
    "    response.raise_for_status()\n",
    "except requests.exceptions.HTTPError as http_err:\n",
    "    print(f\"HTTP error occurred: {http_err}\")\n",
    "except Exception as err:\n",
    "    print(f\"Other error occurred: {err}\")\n",
    "else:\n",
    "    # Print response content as JSON\n",
    "    print(json.dumps(json.loads(response.content), indent=4))\n"
   ]
  },
  {
   "attachments": {},
   "cell_type": "markdown",
   "metadata": {},
   "source": [
    "_____________________________________________________________\n",
    "### Graph API call for Intel Profile"
   ]
  },
  {
   "attachments": {},
   "cell_type": "markdown",
   "metadata": {},
   "source": [
    "#### Get the Profile Id"
   ]
  },
  {
   "cell_type": "code",
   "execution_count": null,
   "metadata": {},
   "outputs": [],
   "source": [
    "# Prompt user to enter article ID\n",
    "ProfileId = input(\"Enter the Profile ID: \")\n",
    "\n",
    "print(ProfileId)"
   ]
  },
  {
   "attachments": {},
   "cell_type": "markdown",
   "metadata": {},
   "source": [
    "#### Graph API Call to return Intel Profile Requested"
   ]
  },
  {
   "cell_type": "code",
   "execution_count": null,
   "metadata": {},
   "outputs": [],
   "source": [
    "import requests\n",
    "import json\n",
    "\n",
    "# Graph API base URL\n",
    "graph_api_base_url = \"https://graph.microsoft.com/beta/security/threatIntelligence/intelProfiles/{ProfileId}\"\n",
    "\n",
    "# Create headers with Authorization token\n",
    "headers = {\n",
    "    \"Authorization\": f\"Bearer {access_token}\",\n",
    "    \"Content-Type\": \"application/json\"\n",
    "}\n",
    "\n",
    "# Send GET request to Graph API endpoint\n",
    "response = requests.get(graph_api_base_url, headers=headers)\n",
    "\n",
    "# Check for HTTP errors\n",
    "try:\n",
    "    response.raise_for_status()\n",
    "except requests.exceptions.HTTPError as http_err:\n",
    "    print(f\"HTTP error occurred: {http_err}\")\n",
    "except Exception as err:\n",
    "    print(f\"Other error occurred: {err}\")\n",
    "else:\n",
    "    # Print response content as JSON\n",
    "    print(json.dumps(json.loads(response.content), indent=4))\n"
   ]
  },
  {
   "attachments": {},
   "cell_type": "markdown",
   "metadata": {},
   "source": [
    "_____________________________________________________________\n",
    "### Graph API Query for Vulnerability"
   ]
  },
  {
   "attachments": {},
   "cell_type": "markdown",
   "metadata": {},
   "source": [
    "#### Get the Vulnerability to query for"
   ]
  },
  {
   "cell_type": "code",
   "execution_count": null,
   "metadata": {},
   "outputs": [],
   "source": [
    "# Prompt user to enter article ID\n",
    "VulnId = input(\"Enter the article ID: \")\n",
    "\n",
    "print(VulnID)"
   ]
  },
  {
   "attachments": {},
   "cell_type": "markdown",
   "metadata": {},
   "source": [
    "#### API Call to return the Vulnerability information for request"
   ]
  },
  {
   "cell_type": "code",
   "execution_count": null,
   "metadata": {},
   "outputs": [],
   "source": [
    "import requests\n",
    "import json\n",
    "\n",
    "# Graph API base URL\n",
    "graph_api_base_url = \"https://graph.microsoft.com/beta/security/threatIntelligence/vulnerabilities/{VulnId}\"\n",
    "\n",
    "# Create headers with Authorization token\n",
    "headers = {\n",
    "    \"Authorization\": f\"Bearer {access_token}\",\n",
    "    \"Content-Type\": \"application/json\"\n",
    "}\n",
    "\n",
    "# Send GET request to Graph API endpoint\n",
    "response = requests.get(graph_api_base_url, headers=headers)\n",
    "\n",
    "# Check for HTTP errors\n",
    "try:\n",
    "    response.raise_for_status()\n",
    "except requests.exceptions.HTTPError as http_err:\n",
    "    print(f\"HTTP error occurred: {http_err}\")\n",
    "except Exception as err:\n",
    "    print(f\"Other error occurred: {err}\")\n",
    "else:\n",
    "    # Print response content as JSON\n",
    "    print(json.dumps(json.loads(response.content), indent=4))\n"
   ]
  },
  {
   "attachments": {},
   "cell_type": "markdown",
   "metadata": {},
   "source": [
    "#### For trouble shooting, will return header information with the expected output"
   ]
  },
  {
   "cell_type": "code",
   "execution_count": null,
   "metadata": {},
   "outputs": [],
   "source": [
    "import requests\n",
    "import json\n",
    "\n",
    "# Graph API base URL\n",
    "graph_api_base_url = \"https://graph.microsoft.com/beta/security/threatIntelligence/hosts/062fe.com/reputation\"\n",
    "\n",
    "# Create headers with Authorization token\n",
    "headers = {\n",
    "    \"Authorization\": f\"Bearer {access_token}\",\n",
    "    \"Content-Type\": \"application/json\"\n",
    "}\n",
    "\n",
    "# Send GET request to Graph API endpoint\n",
    "response = requests.get(graph_api_base_url, headers=headers)\n",
    "\n",
    "# Check for HTTP errors\n",
    "try:\n",
    "    response.raise_for_status()\n",
    "except requests.exceptions.HTTPError as http_err:\n",
    "    print(f\"HTTP error occurred: {http_err}\")\n",
    "except Exception as err:\n",
    "    print(f\"Other error occurred: {err}\")\n",
    "else:\n",
    "    # Print response headers\n",
    "    print(\"Response Headers:\")\n",
    "    print(\"-----------------\")\n",
    "    for header, value in response.headers.items():\n",
    "        print(f\"{header}: {value}\")\n",
    "    print()\n",
    "\n",
    "    # Print response content as JSON\n",
    "    print(\"Response Content:\")\n",
    "    print(\"-----------------\")\n",
    "    print(json.dumps(json.loads(response.content), indent=4))\n"
   ]
  }
 ],
 "metadata": {
  "kernelspec": {
   "display_name": "Python 3",
   "language": "python",
   "name": "python3"
  },
  "language_info": {
   "codemirror_mode": {
    "name": "ipython",
    "version": 3
   },
   "file_extension": ".py",
   "mimetype": "text/x-python",
   "name": "python",
   "nbconvert_exporter": "python",
   "pygments_lexer": "ipython3",
   "version": "3.10.10"
  },
  "orig_nbformat": 4
 },
 "nbformat": 4,
 "nbformat_minor": 2
}
