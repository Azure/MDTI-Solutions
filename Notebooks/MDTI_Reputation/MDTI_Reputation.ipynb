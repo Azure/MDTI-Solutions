{
 "cells": [
  {
   "cell_type": "markdown",
   "metadata": {},
   "source": [
    "# **Microsoft Defender Threat Intelligence**\n",
    "\n",
    "## Jupyter NoteBook using the MDTI to return the Reputation DataSet.  There is an example of a single domain/ip address entity and then an example of a bulk Reputation return for classification as well as score.\n",
    "\n",
    "#### Author: \n",
    "Dennis Mercer  \n",
    "Sr Program Manager  \n",
    "Microsoft CxE MDTI  \n",
    "\n",
    "##### Microsoft Defender Threat Intelligence (MDTI) is a complete threat intelligence platform that enables security professionals to ingest, analyze and act upon trillions of signals collected from across the internet and processed by security experts and AI. MDTI allows users to uncover and understand the global threat landscape as it relates to their organization, including context around vulnerabilities, threat actors, and the threat infrastructure that might be used to attack them.\n",
    "\n",
    "##### Microsoft processes over 65-trillion signals every day, which is used to populate the database which MDTI pulls datasets of threat intelligence. The key to operationalizing threat intelligence is to make it not just applicable, but actionable.   This notebook seeks to make threat intelligence actionable for SOC Analyst, Threat Hunters and Cyber Threat Intelligence Researchers.\n",
    "\n",
    "##### With this Jupyter Notebook, you can call the Reputation Endpoint and return the reputation classification and score.   Additionally, you can use additional APIs to create additional datasets for your notebook.\n",
    "\n"
   ]
  },
  {
   "cell_type": "markdown",
   "metadata": {},
   "source": [
    "_________________________________________________________________________________________________________________________________________________________\n",
    "### You will need to install aiohttp and msal for the bulk Reputation request."
   ]
  },
  {
   "cell_type": "code",
   "execution_count": null,
   "metadata": {},
   "outputs": [],
   "source": [
    "pip install aiohttp msal"
   ]
  },
  {
   "cell_type": "markdown",
   "metadata": {},
   "source": [
    "________________________________________________________________________________________________________________________________________________________\n",
    "### Import Statements for any potential calls within the cells below or any modifications that could be made to the source of the Typosquat Services"
   ]
  },
  {
   "cell_type": "code",
   "execution_count": null,
   "metadata": {},
   "outputs": [],
   "source": [
    "import os\n",
    "import requests\n",
    "import json\n",
    "from azure.identity import ClientSecretCredential"
   ]
  },
  {
   "cell_type": "markdown",
   "metadata": {},
   "source": [
    "### This cell will return the JSON response for a single entity (Domain or IP Address)."
   ]
  },
  {
   "cell_type": "code",
   "execution_count": null,
   "metadata": {},
   "outputs": [],
   "source": [
    "# Get the client secret from a local file\n",
    "credential = ClientSecretCredential(\n",
    "    tenant_id='Enter your TenantID',     # Tenant ID\n",
    "    client_id='Enter your App ClientID', # ClientID from app registration \n",
    "    client_secret=  client_secret        # You should not leave the client secret exposed, delete the secret once you have used it or employ Key Vault\n",
    ")\n",
    "\n",
    "scopes = ['https://graph.microsoft.com/.default']  # Scopes or permissions required for API access\n",
    "\n",
    "# Get the access token\n",
    "access_token = credential.get_token('https://graph.microsoft.com/.default').token\n",
    "# Prepare the request headers\n",
    "headers = {\n",
    "    'Authorization': 'Bearer ' + access_token,\n",
    "    'Content-Type': 'application/json'\n",
    "}\n",
    "\n",
    "# Getting user input and making the Graph API call\n",
    "hosts = input(\"Please enter the IP address or Domain Name (e.g., 'microsoft.com'): \")\n",
    "ENDPOINT = f\"https://graph.microsoft.com/v1.0/security/threatIntelligence/hosts('{hosts}')/reputation\"\n",
    "\n",
    "response = requests.get(ENDPOINT, headers=headers)\n",
    "\n",
    "if response.status_code == 200:\n",
    "    data = response.json()\n",
    "    print(json.dumps(data, indent=4))\n",
    "else:\n",
    "    print(f\"Error {response.status_code}: {response.text}\")\n"
   ]
  }
 ],
 "metadata": {
  "kernelspec": {
   "display_name": "Python 3",
   "language": "python",
   "name": "python3"
  },
  "language_info": {
   "codemirror_mode": {
    "name": "ipython",
    "version": 3
   },
   "file_extension": ".py",
   "mimetype": "text/x-python",
   "name": "python",
   "nbconvert_exporter": "python",
   "pygments_lexer": "ipython3",
   "version": "3.10.11"
  },
  "orig_nbformat": 4
 },
 "nbformat": 4,
 "nbformat_minor": 2
}
